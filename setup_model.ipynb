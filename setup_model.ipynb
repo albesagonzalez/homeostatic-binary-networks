{
 "cells": [
  {
   "cell_type": "code",
   "execution_count": 1,
   "metadata": {},
   "outputs": [],
   "source": [
    "import numpy as np\n",
    "import matplotlib.pyplot as plt\n",
    "from matplotlib.colors import LinearSegmentedColormap\n",
    "import seaborn as sns\n",
    "\n",
    "import pandas as pd\n",
    "\n",
    "import torch\n",
    "import torch.nn as nn\n",
    "import torch.nn.functional as F\n",
    "import torch.optim as optim\n",
    "\n",
    "from scipy.stats import norm\n",
    "\n",
    "from copy import deepcopy\n",
    "import itertools\n",
    "import random\n",
    "\n",
    "from collections import OrderedDict\n",
    "\n",
    "\n",
    "import torch\n",
    "import torch.nn as nn\n",
    "\n",
    "\n",
    "from torch.utils.data import TensorDataset, DataLoader\n",
    "from sklearn.model_selection import train_test_split\n",
    "from sklearn.metrics import accuracy_score\n",
    "\n",
    "\n",
    "def seed_everything(seed=42):\n",
    "    random.seed(seed)\n",
    "    np.random.seed(seed)\n",
    "    torch.manual_seed(seed)\n",
    "\n",
    "seed_everything(0)\n",
    "\n",
    "\n",
    "blue = '#0073B7'\n",
    "yellow = '#FFD23F'\n",
    "gray = '#7A7A7A'\n",
    "purple = '#B05AA3'\n",
    "green = '#00A651'\n",
    "orange = '#F7941D'\n",
    "\n",
    "\n",
    "blue_yellow = LinearSegmentedColormap.from_list(\n",
    "    \"blue_yellow\", [\"#0073B7\", \"#FFD23F\"]\n",
    ")\n",
    "\n",
    "\n",
    "gray = '#C0C0C0'\n",
    "purple = '#B05AA3'\n",
    "\n",
    "gray_purple = LinearSegmentedColormap.from_list(\n",
    "    \"gray_purple\",\n",
    "    [gray , purple]\n",
    ")\n"
   ]
  },
  {
   "cell_type": "code",
   "execution_count": 2,
   "metadata": {},
   "outputs": [],
   "source": [
    "from src.model import SSCNetwork\n",
    "from Network_Definition.forward import forward\n",
    "from src.utils.general import make_input, LatentSpace, get_ordered_indices, test_network"
   ]
  },
  {
   "cell_type": "code",
   "execution_count": 3,
   "metadata": {},
   "outputs": [],
   "source": [
    "network_parameters = {}\n",
    "\n",
    "###################\n",
    "#general paramerers\n",
    "###################\n",
    "\n",
    "#network regions\n",
    "network_parameters[\"regions\"] = [\"hidden\", \"output\"]\n",
    "\n",
    "#number of pattern complete operations\n",
    "network_parameters[\"hidden_pattern_complete_iterations\"] = 10\n",
    "\n",
    "##################\n",
    "#region parameters\n",
    "##################\n",
    "\n",
    "network_parameters[\"hidden_num_subregions\"] = 1\n",
    "network_parameters[\"hidden_size_subregions\"] = torch.tensor([100])\n",
    "network_parameters[\"hidden_sparsity\"] = torch.tensor([0.2])\n",
    "network_parameters[\"hidden_sparsity_sleep\"] = torch.tensor([0.2])\n",
    "\n",
    "network_parameters[\"output_num_subregions\"] = 1\n",
    "network_parameters[\"output_size_subregions\"] = torch.tensor([50])\n",
    "network_parameters[\"output_sparsity\"] = torch.tensor([2/50])\n",
    "network_parameters[\"hidden_sparsity_sleep\"] = torch.tensor([2/50])\n",
    "\n",
    "\n",
    "####################\n",
    "#synaptic parameters\n",
    "####################\n",
    "\n",
    "network_parameters[\"connectivity\"] = [\"hidden_hidden\", \"output_hidden\"]\n",
    "\n",
    "#hidden_hidden\n",
    "#init\n",
    "network_parameters[\"hidden_hidden_init\"] = \"random\"\n",
    "network_parameters[\"hidden_hidden_init_random_max\"] = \"post\"\n",
    "network_parameters[\"hidden_hidden_init_max_post\"] = 1\n",
    "network_parameters[\"hidden_hidden_init_rf_size\"] = 30\n",
    "network_parameters[\"hidden_hidden_init_std\"] = 0.0005\n",
    "#learning\n",
    "network_parameters[\"hidden_hidden_lmbda\"] = 5e-4\n",
    "network_parameters[\"max_pre_hidden_hidden\"] = 1\n",
    "network_parameters[\"max_post_hidden_hidden\"] = np.inf\n",
    "\n",
    "#output_hidden\n",
    "#init\n",
    "network_parameters[\"output_hidden_init\"] = \"random\"\n",
    "network_parameters[\"output_hidden_init_random_max\"] = \"post\"\n",
    "network_parameters[\"output_hidden_init_max_post\"] = 1\n",
    "network_parameters[\"output_hidden_init_rf_size\"] = 10\n",
    "network_parameters[\"output_hidden_init_std\"] = 0.0005\n",
    "#learning\n",
    "network_parameters[\"output_hidden_lmbda\"] = 5e-4\n",
    "network_parameters[\"max_pre_output_hidden\"] = np.inf\n",
    "network_parameters[\"max_post_output_hidden\"] = 1"
   ]
  },
  {
   "cell_type": "code",
   "execution_count": 4,
   "metadata": {},
   "outputs": [],
   "source": [
    "network_model = {}\n",
    "network_model[\"forward\"] = forward"
   ]
  },
  {
   "cell_type": "code",
   "execution_count": 5,
   "metadata": {},
   "outputs": [],
   "source": [
    "recording_parameters = {}\n",
    "recording_parameters[\"regions\"] = [\"hidden\", \"output\"]\n",
    "recording_parameters[\"rate_activity\"] = 1\n",
    "recording_parameters[\"connections\"] = [\"hidden_hidden\"]\n",
    "recording_parameters[\"rate_connectivity\"] = 100\n",
    "\n",
    "\n",
    "\n",
    "input_params = {}\n",
    "input_params[\"num_days\"] = 500\n",
    "input_params[\"day_length\"] = 80\n",
    "input_params[\"mean_duration\"] = 5\n",
    "input_params[\"fixed_duration\"] = True\n",
    "input_params[\"num_swaps\"] = 0\n",
    "\n",
    "latent_specs = {}\n",
    "latent_specs[\"num\"] = 2\n",
    "latent_specs[\"total_sizes\"] = [50, 50]\n",
    "latent_specs[\"act_sizes\"] = [10, 10]\n",
    "latent_specs[\"dims\"] = [5, 5]\n",
    "latent_specs[\"prob_list\"] = [0.5/5 if i==j else 0.5/20 for i in range(5) for j in range(5)]\n",
    "input_params[\"latent_space\"] = LatentSpace(**latent_specs)"
   ]
  },
  {
   "cell_type": "code",
   "execution_count": 6,
   "metadata": {},
   "outputs": [],
   "source": [
    "input, input_episodes, input_latents = make_input(**input_params)"
   ]
  },
  {
   "cell_type": "code",
   "execution_count": 7,
   "metadata": {},
   "outputs": [],
   "source": [
    "network = SSCNetwork(network_parameters, recording_parameters, network_model)"
   ]
  },
  {
   "cell_type": "code",
   "execution_count": 8,
   "metadata": {},
   "outputs": [
    {
     "name": "stdout",
     "output_type": "stream",
     "text": [
      "0\n",
      "50\n",
      "100\n",
      "150\n",
      "200\n",
      "250\n",
      "300\n",
      "350\n",
      "400\n",
      "450\n"
     ]
    }
   ],
   "source": [
    "print_rate = 50\n",
    "with torch.no_grad():\n",
    "    for day in range(input_params[\"num_days\"]):\n",
    "        if day%print_rate == 0:\n",
    "            print(day)\n",
    "        network(input[day], debug=False)"
   ]
  },
  {
   "cell_type": "code",
   "execution_count": 9,
   "metadata": {},
   "outputs": [
    {
     "data": {
      "text/plain": [
       "Text(0.5, 0, 'Time')"
      ]
     },
     "execution_count": 9,
     "metadata": {},
     "output_type": "execute_result"
    },
    {
     "data": {
      "image/png": "[encoded data removed]",
      "text/plain": [
       "<Figure size 300x300 with 1 Axes>"
      ]
     },
     "metadata": {},
     "output_type": "display_data"
    }
   ],
   "source": [
    "\n",
    "\n",
    "fig = plt.figure(figsize=(3, 3))\n",
    "\n",
    "plt.imshow(torch.stack(network.activity_recordings[\"hidden\"], dim=0)[network.awake_indices][:input_params[\"day_length\"]//2, :100].reshape(-1, 100).T, cmap=blue_yellow, vmin=0, vmax=1)\n",
    "\n",
    "# Example parameters\n",
    "N = 100  # Total number of y-axis ticks (from 0 to N)\n",
    "NA = 5   # Number of A groups\n",
    "NB = 5   # Number of B groups\n",
    "M = N // (NA + NB)  # Size of each group (equal-sized labels)\n",
    "\n",
    "# Generate labels\n",
    "labels_A = [f\"A{i+1}\" for i in range(NA)]\n",
    "labels_B = [f\"B{i+1}\" for i in range(NB)]\n",
    "labels = labels_A + labels_B\n",
    "\n",
    "# Positions for labels (centered in each segment)\n",
    "positions = [M * (i + 0.5) for i in range(NA + NB)]\n",
    "plt.yticks(positions, labels, fontsize=18)\n",
    "plt.xticks([0, 20], fontsize=18)\n",
    "plt.ylabel(\"Neuron\", fontsize=20)\n",
    "plt.xlabel(\"Time\", fontsize=20)\n",
    "\n"
   ]
  },
  {
   "cell_type": "code",
   "execution_count": 12,
   "metadata": {},
   "outputs": [],
   "source": [
    "X_output = torch.stack(network.activity_recordings[\"output\"], dim=0)[network.awake_indices][-100*input_params[\"day_length\"]:]\n",
    "\n",
    "X_latent_A = F.one_hot(input_latents[-100:, :, 0].long(), num_classes=latent_specs[\"dims\"][0])\n",
    "X_latent_B = F.one_hot(input_latents[-100:, :, 1].long(), num_classes=latent_specs[\"dims\"][1])\n",
    "X_latent_AB = torch.cat((X_latent_A, X_latent_B), axis=2)\n",
    "X_episodes = F.one_hot(input_episodes[-100:].long(), num_classes=np.prod(latent_specs[\"dims\"]))\n",
    "\n",
    "network.selectivity_output_episodes, network.ordered_indices_output_episodes = get_ordered_indices(X_output, X_episodes, assembly_size=10)\n"
   ]
  },
  {
   "cell_type": "code",
   "execution_count": 32,
   "metadata": {},
   "outputs": [
    {
     "data": {
      "text/plain": [
       "(array([13.,  0.,  2.,  4.,  9.,  8.,  7.,  1.,  4.,  2.]),\n",
       " array([0.        , 0.0999835 , 0.199967  , 0.29995048, 0.39993399,\n",
       "        0.49991748, 0.59990096, 0.69988447, 0.79986799, 0.89985144,\n",
       "        0.99983495]),\n",
       " <BarContainer object of 10 artists>)"
      ]
     },
     "execution_count": 32,
     "metadata": {},
     "output_type": "execute_result"
    },
    {
     "data": {
      "image/png": "[encoded data removed]",
      "text/plain": [
       "<Figure size 640x480 with 1 Axes>"
      ]
     },
     "metadata": {},
     "output_type": "display_data"
    }
   ],
   "source": [
    "plt.hist(network.selectivity_output_episodes.max(axis=1)[0].flatten())"
   ]
  },
  {
   "cell_type": "code",
   "execution_count": 30,
   "metadata": {},
   "outputs": [
    {
     "data": {
      "text/plain": [
       "([<matplotlib.axis.YTick at 0x367fabd90>,\n",
       "  <matplotlib.axis.YTick at 0x367fabd60>,\n",
       "  <matplotlib.axis.YTick at 0x367fab7f0>,\n",
       "  <matplotlib.axis.YTick at 0x367fe2310>,\n",
       "  <matplotlib.axis.YTick at 0x367fe2df0>,\n",
       "  <matplotlib.axis.YTick at 0x367fe98e0>,\n",
       "  <matplotlib.axis.YTick at 0x367fed3d0>,\n",
       "  <matplotlib.axis.YTick at 0x367fe90a0>,\n",
       "  <matplotlib.axis.YTick at 0x367fede80>,\n",
       "  <matplotlib.axis.YTick at 0x367fedf70>,\n",
       "  <matplotlib.axis.YTick at 0x367ff5700>,\n",
       "  <matplotlib.axis.YTick at 0x367ffc850>,\n",
       "  <matplotlib.axis.YTick at 0x367ff54c0>,\n",
       "  <matplotlib.axis.YTick at 0x367fe9d30>,\n",
       "  <matplotlib.axis.YTick at 0x3700063d0>,\n",
       "  <matplotlib.axis.YTick at 0x370006bb0>,\n",
       "  <matplotlib.axis.YTick at 0x37000e3d0>,\n",
       "  <matplotlib.axis.YTick at 0x37000ebb0>,\n",
       "  <matplotlib.axis.YTick at 0x370006250>,\n",
       "  <matplotlib.axis.YTick at 0x37000e8e0>,\n",
       "  <matplotlib.axis.YTick at 0x3700184f0>,\n",
       "  <matplotlib.axis.YTick at 0x370018cd0>,\n",
       "  <matplotlib.axis.YTick at 0x37001f4f0>,\n",
       "  <matplotlib.axis.YTick at 0x370018340>,\n",
       "  <matplotlib.axis.YTick at 0x370006550>],\n",
       " [Text(0, 1.0, 'A1B1'),\n",
       "  Text(0, 3.0, 'A1B2'),\n",
       "  Text(0, 5.0, 'A1B3'),\n",
       "  Text(0, 7.0, 'A1B4'),\n",
       "  Text(0, 9.0, 'A1B5'),\n",
       "  Text(0, 11.0, 'A2B1'),\n",
       "  Text(0, 13.0, 'A2B2'),\n",
       "  Text(0, 15.0, 'A2B3'),\n",
       "  Text(0, 17.0, 'A2B4'),\n",
       "  Text(0, 19.0, 'A2B5'),\n",
       "  Text(0, 21.0, 'A3B1'),\n",
       "  Text(0, 23.0, 'A3B2'),\n",
       "  Text(0, 25.0, 'A3B3'),\n",
       "  Text(0, 27.0, 'A3B4'),\n",
       "  Text(0, 29.0, 'A3B5'),\n",
       "  Text(0, 31.0, 'A4B1'),\n",
       "  Text(0, 33.0, 'A4B2'),\n",
       "  Text(0, 35.0, 'A4B3'),\n",
       "  Text(0, 37.0, 'A4B4'),\n",
       "  Text(0, 39.0, 'A4B5'),\n",
       "  Text(0, 41.0, 'A5B1'),\n",
       "  Text(0, 43.0, 'A5B2'),\n",
       "  Text(0, 45.0, 'A5B3'),\n",
       "  Text(0, 47.0, 'A5B4'),\n",
       "  Text(0, 49.0, 'A5B5')])"
      ]
     },
     "execution_count": 30,
     "metadata": {},
     "output_type": "execute_result"
    },
    {
     "data": {
      "image/png": "[encoded data removed]",
      "text/plain": [
       "<Figure size 300x300 with 1 Axes>"
      ]
     },
     "metadata": {},
     "output_type": "display_data"
    }
   ],
   "source": [
    "\n",
    "\n",
    "fig = plt.figure(figsize=(3, 3))\n",
    "\n",
    "plt.imshow(torch.stack(network.activity_recordings[\"output\"], dim=0)[network.awake_indices][:input_params[\"day_length\"]//2, network.ordered_indices_output_episodes[:50]].reshape(-1, 50).T, cmap=blue_yellow, vmin=0, vmax=1) \n",
    "\n",
    "\n",
    "# Example parameters\n",
    "N = 50  # Total number of y-axis ticks (from 0 to N)\n",
    "NA = 5   # Number of A groups\n",
    "NB = 5   # Number of B groups\n",
    "M = N // (NA * NB)  # Size of each group (equal-sized segments for each AiBj)\n",
    "\n",
    "# Generate combination labels\n",
    "labels_episodes = [f\"A{i+1}B{j+1}\" for i in range(NA) for j in range(NB)]\n",
    "\n",
    "# Positions for labels (centered in each segment)\n",
    "positions_episodes =  [M * (k + 0.5) for k in range(NA * NB)]\n",
    "\n",
    "\n",
    "\n",
    "plt.yticks(positions_episodes, labels_episodes, fontsize=10)"
   ]
  },
  {
   "cell_type": "code",
   "execution_count": null,
   "metadata": {},
   "outputs": [],
   "source": []
  }
 ],
 "metadata": {
  "kernelspec": {
   "display_name": "Python 3",
   "language": "python",
   "name": "python3"
  },
  "language_info": {
   "codemirror_mode": {
    "name": "ipython",
    "version": 3
   },
   "file_extension": ".py",
   "mimetype": "text/x-python",
   "name": "python",
   "nbconvert_exporter": "python",
   "pygments_lexer": "ipython3",
   "version": "3.9.6"
  }
 },
 "nbformat": 4,
 "nbformat_minor": 2
}

{
 "cells": [
  {
   "cell_type": "code",
   "execution_count": 1,
   "metadata": {},
   "outputs": [],
   "source": [
    "import numpy as np\n",
    "import matplotlib.pyplot as plt\n",
    "from matplotlib.colors import LinearSegmentedColormap\n",
    "import seaborn as sns\n",
    "import pickle\n",
    "\n",
    "\n",
    "import pandas as pd\n",
    "\n",
    "import torch\n",
    "import torch.nn as nn\n",
    "import torch.nn.functional as F\n",
    "import torch.optim as optim\n",
    "\n",
    "from scipy.stats import norm\n",
    "\n",
    "from copy import deepcopy\n",
    "import itertools\n",
    "import random\n",
    "\n",
    "from collections import OrderedDict\n",
    "\n",
    "\n",
    "import torch\n",
    "import torch.nn as nn\n",
    "\n",
    "\n",
    "from torch.utils.data import TensorDataset, DataLoader\n",
    "from sklearn.model_selection import train_test_split\n",
    "from sklearn.metrics import accuracy_score\n",
    "\n",
    "\n",
    "def seed_everything(seed=42):\n",
    "    random.seed(seed)\n",
    "    np.random.seed(seed)\n",
    "    torch.manual_seed(seed)\n",
    "\n",
    "seed_everything(0)\n",
    "\n",
    "\n",
    "blue = '#0073B7'\n",
    "yellow = '#FFD23F'\n",
    "gray = '#7A7A7A'\n",
    "purple = '#B05AA3'\n",
    "green = '#00A651'\n",
    "orange = '#F7941D'\n",
    "\n",
    "\n",
    "blue_yellow = LinearSegmentedColormap.from_list(\n",
    "    \"blue_yellow\", [\"#0073B7\", \"#FFD23F\"]\n",
    ")\n",
    "\n",
    "\n",
    "gray = '#C0C0C0'\n",
    "purple = '#B05AA3'\n",
    "\n",
    "gray_purple = LinearSegmentedColormap.from_list(\n",
    "    \"gray_purple\",\n",
    "    [gray , purple]\n",
    ")"
   ]
  },
  {
   "cell_type": "code",
   "execution_count": 2,
   "metadata": {},
   "outputs": [],
   "source": [
    "from src.model import SSCNetwork\n",
    "from Network_Definition.forward import forward\n",
    "from Network_Definition.parameters import network_parameters\n",
    "from src.utils.general import make_input, LatentSpace, get_ordered_indices, test_network, get_latent_accuracy, get_signal_to_noise_ratio"
   ]
  },
  {
   "cell_type": "code",
   "execution_count": 3,
   "metadata": {},
   "outputs": [],
   "source": [
    "network_model = {}\n",
    "network_model[\"forward\"] = forward\n",
    "\n",
    "recording_parameters = {}\n",
    "recording_parameters[\"regions\"] = [\"hidden\", \"output_hat\", \"output\"]\n",
    "recording_parameters[\"rate_activity\"] = 1\n",
    "recording_parameters[\"connections\"] = [\"hidden_hidden\"]\n",
    "recording_parameters[\"rate_connectivity\"] = 100\n",
    "\n",
    "\n",
    "\n",
    "input_params = {}\n",
    "input_params[\"num_days\"] = 1\n",
    "input_params[\"day_length\"] = 80\n",
    "input_params[\"mean_duration\"] = 5\n",
    "input_params[\"fixed_duration\"] = True\n",
    "input_params[\"num_swaps\"] = 0\n",
    "\n",
    "latent_specs = {}\n",
    "latent_specs[\"num\"] = 2\n",
    "latent_specs[\"total_sizes\"] = [50, 50]\n",
    "latent_specs[\"act_sizes\"] = [10, 10]\n",
    "latent_specs[\"dims\"] = [5, 5]\n",
    "latent_specs[\"prob_list\"] = [0.5/5 if i==j else 0.5/20 for i in range(5) for j in range(5)]\n",
    "input_params[\"latent_space\"] = LatentSpace(**latent_specs)"
   ]
  },
  {
   "cell_type": "code",
   "execution_count": 4,
   "metadata": {},
   "outputs": [],
   "source": [
    "input, input_episodes, input_latents = make_input(**input_params)\n",
    "network = SSCNetwork(network_parameters, recording_parameters, network_model)"
   ]
  },
  {
   "cell_type": "code",
   "execution_count": 5,
   "metadata": {},
   "outputs": [
    {
     "name": "stdout",
     "output_type": "stream",
     "text": [
      "0\n"
     ]
    }
   ],
   "source": [
    "print_rate = 50\n",
    "with torch.no_grad():\n",
    "    for day in range(input_params[\"num_days\"]):\n",
    "        if day%print_rate == 0:\n",
    "            print(day)\n",
    "        network(input[day], debug=False)"
   ]
  },
  {
   "cell_type": "code",
   "execution_count": 6,
   "metadata": {},
   "outputs": [
    {
     "data": {
      "image/png": "[encoded data removed]",
      "text/plain": [
       "<Figure size 300x300 with 1 Axes>"
      ]
     },
     "metadata": {},
     "output_type": "display_data"
    }
   ],
   "source": [
    "hidden = torch.stack(network.activity_recordings[\"hidden\"], dim=0)[network.awake_indices][:input_params[\"day_length\"]//2, :100].reshape(-1, 100).T\n",
    "\n",
    "fig = plt.figure(figsize=(3, 3))\n",
    "\n",
    "\n",
    "\n",
    "plt.imshow(hidden, cmap=blue_yellow, vmin=0, vmax=1)\n",
    "\n",
    "\n",
    "# Set ticks at pixel boundaries\n",
    "plt.xticks(np.arange(0, 40, 1), minor=True)\n",
    "plt.yticks(np.arange(0, 100, 1), minor=True)\n",
    "plt.grid(which=\"minor\", color=\"black\", linestyle='-', linewidth=0.1)\n",
    "\n",
    "\n",
    "# Example parameters\n",
    "N = 100  # Total number of y-axis ticks (from 0 to N)\n",
    "NA = 5   # Number of A groups\n",
    "NB = 5   # Number of B groups\n",
    "M = N // (NA + NB)  # Size of each group (equal-sized labels)\n",
    "\n",
    "# Generate labels\n",
    "labels_A = [f\"A{i+1}\" for i in range(NA)]\n",
    "labels_B = [f\"B{i+1}\" for i in range(NB)]\n",
    "labels = labels_A + labels_B\n",
    "\n",
    "# Positions for labels (centered in each segment)\n",
    "positions = [M * (i + 0.5) for i in range(NA + NB)]\n",
    "plt.yticks(positions, labels, fontsize=18)\n",
    "plt.xticks([0, 20], fontsize=18)\n",
    "plt.ylabel(\"Neuron\", fontsize=20)\n",
    "plt.xlabel(\"Time\", fontsize=20)\n",
    "\n",
    "plt.savefig(\"Figures/SVG/2B1.svg\", dpi=300, transparent=True)\n",
    "\n"
   ]
  },
  {
   "cell_type": "code",
   "execution_count": 7,
   "metadata": {},
   "outputs": [
    {
     "data": {
      "image/png": "[encoded data removed]",
      "text/plain": [
       "<Figure size 640x480 with 1 Axes>"
      ]
     },
     "metadata": {},
     "output_type": "display_data"
    }
   ],
   "source": [
    "plt.imshow(hidden[:, 0].reshape((-1, 10)), cmap=blue_yellow, vmin=0, vmax=1)\n",
    "\n",
    "# --- Grid setup ---\n",
    "# Set minor ticks at pixel boundaries\n",
    "plt.xticks(np.arange(-0.5, 10, 1), minor=True)\n",
    "plt.yticks(np.arange(-0.5, 10, 1), minor=True)\n",
    "\n",
    "# Draw gridlines at minor ticks\n",
    "plt.grid(which=\"minor\", color=\"black\", linestyle='-', linewidth=0.5)\n",
    "\n",
    "plt.xticks([])\n",
    "plt.yticks([])\n",
    "\n",
    "plt.savefig(\"Figures/SVG/1C1.svg\", dpi=300, transparent=True)\n",
    "plt.show()"
   ]
  },
  {
   "cell_type": "code",
   "execution_count": 13,
   "metadata": {},
   "outputs": [],
   "source": [
    "network_model = {}\n",
    "network_model[\"forward\"] = forward\n",
    "\n",
    "recording_parameters = {}\n",
    "recording_parameters[\"regions\"] = [\"hidden\", \"output_hat\", \"output\"]\n",
    "recording_parameters[\"rate_activity\"] = 1\n",
    "recording_parameters[\"connections\"] = [\"hidden_hidden\"]\n",
    "recording_parameters[\"rate_connectivity\"] = 100\n",
    "\n",
    "\n",
    "\n",
    "input_params = {}\n",
    "input_params[\"num_days\"] = 1\n",
    "input_params[\"day_length\"] = 80\n",
    "input_params[\"mean_duration\"] = 5\n",
    "input_params[\"fixed_duration\"] = True\n",
    "input_params[\"num_swaps\"] = 4\n",
    "\n",
    "latent_specs = {}\n",
    "latent_specs[\"num\"] = 2\n",
    "latent_specs[\"total_sizes\"] = [50, 50]\n",
    "latent_specs[\"act_sizes\"] = [10, 10]\n",
    "latent_specs[\"dims\"] = [5, 5]\n",
    "latent_specs[\"prob_list\"] = [0.5/5 if i==j else 0.5/20 for i in range(5) for j in range(5)]\n",
    "input_params[\"latent_space\"] = LatentSpace(**latent_specs)"
   ]
  },
  {
   "cell_type": "code",
   "execution_count": 14,
   "metadata": {},
   "outputs": [],
   "source": [
    "input, input_episodes, input_latents = make_input(**input_params)\n",
    "network = SSCNetwork(network_parameters, recording_parameters, network_model)"
   ]
  },
  {
   "cell_type": "code",
   "execution_count": 15,
   "metadata": {},
   "outputs": [
    {
     "name": "stdout",
     "output_type": "stream",
     "text": [
      "0\n"
     ]
    }
   ],
   "source": [
    "print_rate = 50\n",
    "with torch.no_grad():\n",
    "    for day in range(input_params[\"num_days\"]):\n",
    "        if day%print_rate == 0:\n",
    "            print(day)\n",
    "        network(input[day], debug=False)\n",
    "hidden = torch.stack(network.activity_recordings[\"hidden\"], dim=0)[network.awake_indices][:input_params[\"day_length\"]//2, :100].reshape(-1, 100).T\n"
   ]
  },
  {
   "cell_type": "code",
   "execution_count": 16,
   "metadata": {},
   "outputs": [
    {
     "data": {
      "image/png": "[encoded data removed]",
      "text/plain": [
       "<Figure size 640x480 with 1 Axes>"
      ]
     },
     "metadata": {},
     "output_type": "display_data"
    }
   ],
   "source": [
    "plt.imshow(hidden[:, 0].reshape((-1, 10)), cmap=blue_yellow, vmin=0, vmax=1)\n",
    "\n",
    "# --- Grid setup ---\n",
    "# Set minor ticks at pixel boundaries\n",
    "plt.xticks(np.arange(-0.5, 10, 1), minor=True)\n",
    "plt.yticks(np.arange(-0.5, 10, 1), minor=True)\n",
    "\n",
    "# Draw gridlines at minor ticks\n",
    "plt.grid(which=\"minor\", color=\"black\", linestyle='-', linewidth=0.5)\n",
    "\n",
    "plt.xticks([])\n",
    "plt.yticks([])\n",
    "\n",
    "plt.savefig(\"Figures/SVG/4C1.svg\", dpi=300, transparent=True)\n",
    "plt.show()"
   ]
  },
  {
   "cell_type": "code",
   "execution_count": null,
   "metadata": {},
   "outputs": [],
   "source": []
  }
 ],
 "metadata": {
  "kernelspec": {
   "display_name": "Python 3",
   "language": "python",
   "name": "python3"
  },
  "language_info": {
   "codemirror_mode": {
    "name": "ipython",
    "version": 3
   },
   "file_extension": ".py",
   "mimetype": "text/x-python",
   "name": "python",
   "nbconvert_exporter": "python",
   "pygments_lexer": "ipython3",
   "version": "3.9.6"
  }
 },
 "nbformat": 4,
 "nbformat_minor": 2
}
